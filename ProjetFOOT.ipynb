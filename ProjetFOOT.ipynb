{
 "cells": [
  {
   "cell_type": "code",
   "execution_count": 4,
   "metadata": {},
   "outputs": [
    {
     "ename": "ERROR",
     "evalue": "Error in library(FactoMineR): there is no package called ‘FactoMineR’\n",
     "output_type": "error",
     "traceback": [
      "Error in library(FactoMineR): there is no package called ‘FactoMineR’\nTraceback:\n",
      "1. library(FactoMineR)"
     ]
    }
   ],
   "source": [
    "library(ggplot2)\n",
    "library(corrplot)\n",
    "library(tidyverse)\n",
    "#library(FactoMineR)"
   ]
  },
  {
   "cell_type": "code",
   "execution_count": null,
   "metadata": {},
   "outputs": [
    {
     "name": "stderr",
     "output_type": "stream",
     "text": [
      "Updating HTML index of packages in '.Library'\n",
      "Making 'packages.html' ... done\n",
      "also installing the dependencies ‘desc’, ‘pkgbuild’, ‘pkgload’, ‘praise’, ‘testthat’, ‘ellipsis’, ‘isoband’, ‘vctrs’, ‘lifecycle’, ‘dbplyr’, ‘dplyr’, ‘ggplot2’, ‘haven’, ‘hms’, ‘httr’, ‘modelr’, ‘pillar’, ‘purrr’, ‘reprex’, ‘rlang’, ‘rvest’, ‘tibble’, ‘tidyr’, ‘xml2’\n",
      "\n"
     ]
    }
   ],
   "source": [
    "pas <- read.csv(\"Total.csv\", header = TRUE, row.names=1)"
   ]
  },
  {
   "cell_type": "code",
   "execution_count": 9,
   "metadata": {},
   "outputs": [],
   "source": [
    "install.packages(\"corrplot\")"
   ]
  },
  {
   "cell_type": "code",
   "execution_count": 5,
   "metadata": {},
   "outputs": [
    {
     "name": "stderr",
     "output_type": "stream",
     "text": [
      "also installing the dependencies ‘zip’, ‘SparseM’, ‘MatrixModels’, ‘sp’, ‘openxlsx’, ‘minqa’, ‘nloptr’, ‘RcppEigen’, ‘carData’, ‘abind’, ‘pbkrtest’, ‘quantreg’, ‘maptools’, ‘rio’, ‘lme4’, ‘car’, ‘ellipse’, ‘flashClust’, ‘leaps’, ‘scatterplot3d’, ‘ggrepel’\n",
      "\n",
      "Warning message in install.packages(\"FactoMineR\"):\n",
      "“installation of package ‘lme4’ had non-zero exit status”Warning message in install.packages(\"FactoMineR\"):\n",
      "“installation of package ‘pbkrtest’ had non-zero exit status”Warning message in install.packages(\"FactoMineR\"):\n",
      "“installation of package ‘car’ had non-zero exit status”Warning message in install.packages(\"FactoMineR\"):\n",
      "“installation of package ‘FactoMineR’ had non-zero exit status”Updating HTML index of packages in '.Library'\n",
      "Making 'packages.html' ... done\n"
     ]
    }
   ],
   "source": [
    "install.packages(\"FactoMineR\")"
   ]
  },
  {
   "cell_type": "code",
   "execution_count": null,
   "metadata": {},
   "outputs": [],
   "source": []
  }
 ],
 "metadata": {
  "kernelspec": {
   "display_name": "R",
   "language": "R",
   "name": "ir"
  },
  "language_info": {
   "codemirror_mode": "r",
   "file_extension": ".r",
   "mimetype": "text/x-r-source",
   "name": "R",
   "pygments_lexer": "r",
   "version": "3.6.1"
  }
 },
 "nbformat": 4,
 "nbformat_minor": 2
}
